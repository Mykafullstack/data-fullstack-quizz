{
 "cells": [
  {
   "cell_type": "markdown",
   "id": "4f340128",
   "metadata": {},
   "source": [
    "## This is a quiz "
   ]
  },
  {
   "cell_type": "markdown",
   "id": "3f7d53c7",
   "metadata": {},
   "source": [
    "### We will try to modify Mycka"
   ]
  },
  {
   "cell_type": "code",
   "execution_count": null,
   "id": "be6b7008",
   "metadata": {},
   "outputs": [],
   "source": []
  }
 ],
 "metadata": {
  "language_info": {
   "name": "python"
  }
 },
 "nbformat": 4,
 "nbformat_minor": 5
}
